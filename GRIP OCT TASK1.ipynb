{
 "cells": [
  {
   "cell_type": "markdown",
   "id": "f6b22fa9",
   "metadata": {},
   "source": [
    "# `AKASH MAITRA`"
   ]
  },
  {
   "cell_type": "markdown",
   "id": "02b951ed",
   "metadata": {},
   "source": [
    "# `Data Science and Business Analytics Intern, GRIP October 2021 batch`\n",
    "## `GRIP @ THE SPARKS FOUNDATION`"
   ]
  },
  {
   "cell_type": "markdown",
   "id": "f3995ed3",
   "metadata": {},
   "source": [
    " ##  *TASK 01: Prediction using Supervised ML*"
   ]
  },
  {
   "cell_type": "markdown",
   "id": "03899aba",
   "metadata": {},
   "source": [
    "**The domain of my internship with The Sparks Foundation is Data Science and Business Analytics. The Task 1 under this domain is Prediction using Supervised ML**"
   ]
  },
  {
   "cell_type": "markdown",
   "id": "11111688",
   "metadata": {},
   "source": [
    "# Objective: To predict the percentage scores obtained by a student based on the number of study hours using Simple Linear Regression"
   ]
  },
  {
   "cell_type": "markdown",
   "id": "6d0640fa",
   "metadata": {},
   "source": [
    "### **1. Knowing and Visualising the data**\n"
   ]
  },
  {
   "cell_type": "markdown",
   "id": "ac31f6d3",
   "metadata": {},
   "source": [
    "To do this task, we first read the data file using the pandas library as follows:"
   ]
  },
  {
   "cell_type": "code",
   "execution_count": 18,
   "id": "36b5750e",
   "metadata": {},
   "outputs": [
    {
     "data": {
      "text/html": [
       "<div>\n",
       "<style scoped>\n",
       "    .dataframe tbody tr th:only-of-type {\n",
       "        vertical-align: middle;\n",
       "    }\n",
       "\n",
       "    .dataframe tbody tr th {\n",
       "        vertical-align: top;\n",
       "    }\n",
       "\n",
       "    .dataframe thead th {\n",
       "        text-align: right;\n",
       "    }\n",
       "</style>\n",
       "<table border=\"1\" class=\"dataframe\">\n",
       "  <thead>\n",
       "    <tr style=\"text-align: right;\">\n",
       "      <th></th>\n",
       "      <th>Hours</th>\n",
       "      <th>Scores</th>\n",
       "    </tr>\n",
       "  </thead>\n",
       "  <tbody>\n",
       "    <tr>\n",
       "      <th>0</th>\n",
       "      <td>2.5</td>\n",
       "      <td>21</td>\n",
       "    </tr>\n",
       "    <tr>\n",
       "      <th>1</th>\n",
       "      <td>5.1</td>\n",
       "      <td>47</td>\n",
       "    </tr>\n",
       "    <tr>\n",
       "      <th>2</th>\n",
       "      <td>3.2</td>\n",
       "      <td>27</td>\n",
       "    </tr>\n",
       "    <tr>\n",
       "      <th>3</th>\n",
       "      <td>8.5</td>\n",
       "      <td>75</td>\n",
       "    </tr>\n",
       "    <tr>\n",
       "      <th>4</th>\n",
       "      <td>3.5</td>\n",
       "      <td>30</td>\n",
       "    </tr>\n",
       "    <tr>\n",
       "      <th>5</th>\n",
       "      <td>1.5</td>\n",
       "      <td>20</td>\n",
       "    </tr>\n",
       "    <tr>\n",
       "      <th>6</th>\n",
       "      <td>9.2</td>\n",
       "      <td>88</td>\n",
       "    </tr>\n",
       "    <tr>\n",
       "      <th>7</th>\n",
       "      <td>5.5</td>\n",
       "      <td>60</td>\n",
       "    </tr>\n",
       "    <tr>\n",
       "      <th>8</th>\n",
       "      <td>8.3</td>\n",
       "      <td>81</td>\n",
       "    </tr>\n",
       "    <tr>\n",
       "      <th>9</th>\n",
       "      <td>2.7</td>\n",
       "      <td>25</td>\n",
       "    </tr>\n",
       "    <tr>\n",
       "      <th>10</th>\n",
       "      <td>7.7</td>\n",
       "      <td>85</td>\n",
       "    </tr>\n",
       "    <tr>\n",
       "      <th>11</th>\n",
       "      <td>5.9</td>\n",
       "      <td>62</td>\n",
       "    </tr>\n",
       "    <tr>\n",
       "      <th>12</th>\n",
       "      <td>4.5</td>\n",
       "      <td>41</td>\n",
       "    </tr>\n",
       "    <tr>\n",
       "      <th>13</th>\n",
       "      <td>3.3</td>\n",
       "      <td>42</td>\n",
       "    </tr>\n",
       "    <tr>\n",
       "      <th>14</th>\n",
       "      <td>1.1</td>\n",
       "      <td>17</td>\n",
       "    </tr>\n",
       "    <tr>\n",
       "      <th>15</th>\n",
       "      <td>8.9</td>\n",
       "      <td>95</td>\n",
       "    </tr>\n",
       "    <tr>\n",
       "      <th>16</th>\n",
       "      <td>2.5</td>\n",
       "      <td>30</td>\n",
       "    </tr>\n",
       "    <tr>\n",
       "      <th>17</th>\n",
       "      <td>1.9</td>\n",
       "      <td>24</td>\n",
       "    </tr>\n",
       "    <tr>\n",
       "      <th>18</th>\n",
       "      <td>6.1</td>\n",
       "      <td>67</td>\n",
       "    </tr>\n",
       "    <tr>\n",
       "      <th>19</th>\n",
       "      <td>7.4</td>\n",
       "      <td>69</td>\n",
       "    </tr>\n",
       "    <tr>\n",
       "      <th>20</th>\n",
       "      <td>2.7</td>\n",
       "      <td>30</td>\n",
       "    </tr>\n",
       "    <tr>\n",
       "      <th>21</th>\n",
       "      <td>4.8</td>\n",
       "      <td>54</td>\n",
       "    </tr>\n",
       "    <tr>\n",
       "      <th>22</th>\n",
       "      <td>3.8</td>\n",
       "      <td>35</td>\n",
       "    </tr>\n",
       "    <tr>\n",
       "      <th>23</th>\n",
       "      <td>6.9</td>\n",
       "      <td>76</td>\n",
       "    </tr>\n",
       "    <tr>\n",
       "      <th>24</th>\n",
       "      <td>7.8</td>\n",
       "      <td>86</td>\n",
       "    </tr>\n",
       "  </tbody>\n",
       "</table>\n",
       "</div>"
      ],
      "text/plain": [
       "    Hours  Scores\n",
       "0     2.5      21\n",
       "1     5.1      47\n",
       "2     3.2      27\n",
       "3     8.5      75\n",
       "4     3.5      30\n",
       "5     1.5      20\n",
       "6     9.2      88\n",
       "7     5.5      60\n",
       "8     8.3      81\n",
       "9     2.7      25\n",
       "10    7.7      85\n",
       "11    5.9      62\n",
       "12    4.5      41\n",
       "13    3.3      42\n",
       "14    1.1      17\n",
       "15    8.9      95\n",
       "16    2.5      30\n",
       "17    1.9      24\n",
       "18    6.1      67\n",
       "19    7.4      69\n",
       "20    2.7      30\n",
       "21    4.8      54\n",
       "22    3.8      35\n",
       "23    6.9      76\n",
       "24    7.8      86"
      ]
     },
     "execution_count": 18,
     "metadata": {},
     "output_type": "execute_result"
    }
   ],
   "source": [
    "import pandas as pd\n",
    "datafile=pd.read_csv(\"C:\\\\Users\\\\AKASH MAITRA\\\\Desktop\\\\GRIP\\\\GRIPOCTDATA1.csv\")\n",
    "datafile"
   ]
  },
  {
   "cell_type": "markdown",
   "id": "f936cfa6",
   "metadata": {},
   "source": [
    "From the above dataset, we can see that there are two columns , namely \"Hours\" and \"Scores\" which denotes the number of study hours and percentage score obtained by a student respectively. Here, \"Hours\"(x) is the independent variable and \"Score\"(y) is the dependent variable."
   ]
  },
  {
   "cell_type": "markdown",
   "id": "ab1a08d6",
   "metadata": {},
   "source": [
    "The data consists of 25 observations of (x,y)"
   ]
  },
  {
   "cell_type": "markdown",
   "id": "54ae9686",
   "metadata": {},
   "source": [
    "The following gives more details about our dataset."
   ]
  },
  {
   "cell_type": "code",
   "execution_count": 19,
   "id": "5dd8328a",
   "metadata": {},
   "outputs": [
    {
     "data": {
      "text/html": [
       "<div>\n",
       "<style scoped>\n",
       "    .dataframe tbody tr th:only-of-type {\n",
       "        vertical-align: middle;\n",
       "    }\n",
       "\n",
       "    .dataframe tbody tr th {\n",
       "        vertical-align: top;\n",
       "    }\n",
       "\n",
       "    .dataframe thead th {\n",
       "        text-align: right;\n",
       "    }\n",
       "</style>\n",
       "<table border=\"1\" class=\"dataframe\">\n",
       "  <thead>\n",
       "    <tr style=\"text-align: right;\">\n",
       "      <th></th>\n",
       "      <th>Hours</th>\n",
       "      <th>Scores</th>\n",
       "    </tr>\n",
       "  </thead>\n",
       "  <tbody>\n",
       "    <tr>\n",
       "      <th>count</th>\n",
       "      <td>25.000000</td>\n",
       "      <td>25.000000</td>\n",
       "    </tr>\n",
       "    <tr>\n",
       "      <th>mean</th>\n",
       "      <td>5.012000</td>\n",
       "      <td>51.480000</td>\n",
       "    </tr>\n",
       "    <tr>\n",
       "      <th>std</th>\n",
       "      <td>2.525094</td>\n",
       "      <td>25.286887</td>\n",
       "    </tr>\n",
       "    <tr>\n",
       "      <th>min</th>\n",
       "      <td>1.100000</td>\n",
       "      <td>17.000000</td>\n",
       "    </tr>\n",
       "    <tr>\n",
       "      <th>25%</th>\n",
       "      <td>2.700000</td>\n",
       "      <td>30.000000</td>\n",
       "    </tr>\n",
       "    <tr>\n",
       "      <th>50%</th>\n",
       "      <td>4.800000</td>\n",
       "      <td>47.000000</td>\n",
       "    </tr>\n",
       "    <tr>\n",
       "      <th>75%</th>\n",
       "      <td>7.400000</td>\n",
       "      <td>75.000000</td>\n",
       "    </tr>\n",
       "    <tr>\n",
       "      <th>max</th>\n",
       "      <td>9.200000</td>\n",
       "      <td>95.000000</td>\n",
       "    </tr>\n",
       "  </tbody>\n",
       "</table>\n",
       "</div>"
      ],
      "text/plain": [
       "           Hours     Scores\n",
       "count  25.000000  25.000000\n",
       "mean    5.012000  51.480000\n",
       "std     2.525094  25.286887\n",
       "min     1.100000  17.000000\n",
       "25%     2.700000  30.000000\n",
       "50%     4.800000  47.000000\n",
       "75%     7.400000  75.000000\n",
       "max     9.200000  95.000000"
      ]
     },
     "execution_count": 19,
     "metadata": {},
     "output_type": "execute_result"
    }
   ],
   "source": [
    "datafile.describe()"
   ]
  },
  {
   "cell_type": "markdown",
   "id": "cb4d3777",
   "metadata": {},
   "source": [
    "Now we visualize the data using matplotlib library"
   ]
  },
  {
   "cell_type": "code",
   "execution_count": 20,
   "id": "da23c1c4",
   "metadata": {},
   "outputs": [
    {
     "data": {
      "image/png": "[encoded data removed]",
      "text/plain": [
       "<Figure size 432x288 with 1 Axes>"
      ]
     },
     "metadata": {
      "needs_background": "light"
     },
     "output_type": "display_data"
    }
   ],
   "source": [
    "import matplotlib.pyplot as plt\n",
    "x = datafile.iloc[:,:-1].values\n",
    "y = datafile.iloc[:,1].values\n",
    "plt.scatter(x,y)\n",
    "plt.title(\"Scatter diagram showing percentage score obtained vs number of hours of study\")\n",
    "plt.xlabel(\"Number of study hours\")\n",
    "plt.ylabel(\"Percentage scores obtained\")\n",
    "plt.show()"
   ]
  },
  {
   "cell_type": "markdown",
   "id": "3e56b2e9",
   "metadata": {},
   "source": [
    "From the above plot we can clearly see the relationship between these two variables are more or less linear. Thus a linear model based on the given data will be suitable."
   ]
  },
  {
   "cell_type": "markdown",
   "id": "5d72a689",
   "metadata": {},
   "source": [
    "### **2. Processing the Data and Developing the Model**"
   ]
  },
  {
   "cell_type": "markdown",
   "id": "8221f9ae",
   "metadata": {},
   "source": [
    "For this, we need to divide the entire dataset into two parts- Training and Testing Datasets. We are considering 80% of the dataset in the Training part and 20% of the remaining dataset in the Testing part. For this we use the train_test_split()function from sklearn.model_selection library"
   ]
  },
  {
   "cell_type": "code",
   "execution_count": 21,
   "id": "98c84c70",
   "metadata": {},
   "outputs": [],
   "source": [
    "from sklearn.model_selection import train_test_split\n",
    "train_x,test_x,train_y,test_y=train_test_split(x,y,train_size=0.80,test_size=0.20,random_state=0)"
   ]
  },
  {
   "cell_type": "markdown",
   "id": "f7809399",
   "metadata": {},
   "source": [
    "At first we fit a simple linear regression model to the training set of data using LinearRegression() from sklearn.linear_model library."
   ]
  },
  {
   "cell_type": "code",
   "execution_count": 22,
   "id": "762f4bde",
   "metadata": {},
   "outputs": [],
   "source": [
    "from sklearn.linear_model import LinearRegression\n",
    "model= LinearRegression()\n",
    "model.fit(train_x,train_y)\n",
    "predicted_y= model.predict(train_x)"
   ]
  },
  {
   "cell_type": "markdown",
   "id": "2c53e906",
   "metadata": {},
   "source": [
    "Now, we have to find the equation of the regression line and have to plot the data along with the regression line. "
   ]
  },
  {
   "cell_type": "code",
   "execution_count": 23,
   "id": "13aa07e8",
   "metadata": {},
   "outputs": [
    {
     "data": {
      "image/png": "[encoded data removed]",
      "text/plain": [
       "<Figure size 432x288 with 1 Axes>"
      ]
     },
     "metadata": {
      "needs_background": "light"
     },
     "output_type": "display_data"
    }
   ],
   "source": [
    "reg_line= model.coef_*train_x+ model.intercept_\n",
    "plt.scatter(x,y)\n",
    "plt.plot(train_x,reg_line,color=\"red\")\n",
    "plt.title(\"Regression line fitted on the data\\n\")\n",
    "plt.xlabel(\"Hours\")\n",
    "plt.ylabel(\"Scores\")\n",
    "plt.show()"
   ]
  },
  {
   "cell_type": "markdown",
   "id": "3555fbc1",
   "metadata": {},
   "source": [
    "### **3. Comparison between actual and predicted values**"
   ]
  },
  {
   "cell_type": "markdown",
   "id": "330c17f3",
   "metadata": {},
   "source": [
    "We can now compare the values predicted by the linear model to the actual values using the testing set of data."
   ]
  },
  {
   "cell_type": "code",
   "execution_count": 25,
   "id": "0d3e787d",
   "metadata": {},
   "outputs": [
    {
     "data": {
      "text/html": [
       "<div>\n",
       "<style scoped>\n",
       "    .dataframe tbody tr th:only-of-type {\n",
       "        vertical-align: middle;\n",
       "    }\n",
       "\n",
       "    .dataframe tbody tr th {\n",
       "        vertical-align: top;\n",
       "    }\n",
       "\n",
       "    .dataframe thead th {\n",
       "        text-align: right;\n",
       "    }\n",
       "</style>\n",
       "<table border=\"1\" class=\"dataframe\">\n",
       "  <thead>\n",
       "    <tr style=\"text-align: right;\">\n",
       "      <th></th>\n",
       "      <th>Actual</th>\n",
       "      <th>Predicted</th>\n",
       "    </tr>\n",
       "  </thead>\n",
       "  <tbody>\n",
       "    <tr>\n",
       "      <th>0</th>\n",
       "      <td>20</td>\n",
       "      <td>16.884145</td>\n",
       "    </tr>\n",
       "    <tr>\n",
       "      <th>1</th>\n",
       "      <td>27</td>\n",
       "      <td>33.732261</td>\n",
       "    </tr>\n",
       "    <tr>\n",
       "      <th>2</th>\n",
       "      <td>69</td>\n",
       "      <td>75.357018</td>\n",
       "    </tr>\n",
       "    <tr>\n",
       "      <th>3</th>\n",
       "      <td>30</td>\n",
       "      <td>26.794801</td>\n",
       "    </tr>\n",
       "    <tr>\n",
       "      <th>4</th>\n",
       "      <td>62</td>\n",
       "      <td>60.491033</td>\n",
       "    </tr>\n",
       "  </tbody>\n",
       "</table>\n",
       "</div>"
      ],
      "text/plain": [
       "   Actual  Predicted\n",
       "0      20  16.884145\n",
       "1      27  33.732261\n",
       "2      69  75.357018\n",
       "3      30  26.794801\n",
       "4      62  60.491033"
      ]
     },
     "execution_count": 25,
     "metadata": {},
     "output_type": "execute_result"
    }
   ],
   "source": [
    "y_pred= model.predict(test_x)\n",
    "compare= pd.DataFrame({\"Actual\":test_y,\"Predicted\":y_pred})\n",
    "compare"
   ]
  },
  {
   "cell_type": "code",
   "execution_count": 26,
   "id": "ed3c2199",
   "metadata": {},
   "outputs": [
    {
     "data": {
      "image/png": "[encoded data removed]",
      "text/plain": [
       "<Figure size 504x504 with 1 Axes>"
      ]
     },
     "metadata": {
      "needs_background": "light"
     },
     "output_type": "display_data"
    }
   ],
   "source": [
    "compare.plot(kind=\"bar\",figsize=(7,7),color=(\"red\",\"black\"))\n",
    "plt.title(\"Comparison between actual values of y and predicted values of y\\n\")\n",
    "plt.xlabel(\"Index\")\n",
    "plt.ylabel(\"Scores\")\n",
    "plt.grid(which=\"major\",linewidth='0.5',color=\"grey\")\n",
    "plt.show()"
   ]
  },
  {
   "cell_type": "markdown",
   "id": "a7002a58",
   "metadata": {},
   "source": [
    "### **4. Model Chcking**"
   ]
  },
  {
   "cell_type": "markdown",
   "id": "1e351085",
   "metadata": {},
   "source": [
    "At this stage, we can check the quality or goodness of fit of the model using Mean Squared Error, Mean Absolute Error and R squared values. For a good model, the Mean Squared Error and Mean Absolute Error must be minimum and the R Squared values for the training set and testing set must be as close as possible to each other. For this we use Mean_Squared_Error, Mean_Absolute_Error and R^2_score from sklearn.metrics library."
   ]
  },
  {
   "cell_type": "code",
   "execution_count": 27,
   "id": "fa874f1a",
   "metadata": {},
   "outputs": [
    {
     "name": "stdout",
     "output_type": "stream",
     "text": [
      "Mean Squared Error for the model is:\n",
      "21.598769307217456\n"
     ]
    }
   ],
   "source": [
    "from sklearn import metrics\n",
    "print(\"Mean Squared Error for the model is:\")\n",
    "print(metrics.mean_squared_error(test_y,y_pred))"
   ]
  },
  {
   "cell_type": "code",
   "execution_count": 28,
   "id": "1d2ae396",
   "metadata": {},
   "outputs": [
    {
     "name": "stdout",
     "output_type": "stream",
     "text": [
      "Mean Absolute Error for the model is:\n",
      "4.183859899002982\n"
     ]
    }
   ],
   "source": [
    "from sklearn import metrics\n",
    "print(\"Mean Absolute Error for the model is:\")\n",
    "print(metrics.mean_absolute_error(test_y,y_pred))"
   ]
  },
  {
   "cell_type": "code",
   "execution_count": 29,
   "id": "9b7e358e",
   "metadata": {},
   "outputs": [
    {
     "name": "stdout",
     "output_type": "stream",
     "text": [
      "The R squared score for the training set is:\n",
      "0.9515510725211552\n"
     ]
    }
   ],
   "source": [
    "print(\"The R squared score for the training set is:\")\n",
    "print(model.score(train_x,train_y))"
   ]
  },
  {
   "cell_type": "code",
   "execution_count": 30,
   "id": "c72b38ac",
   "metadata": {},
   "outputs": [
    {
     "name": "stdout",
     "output_type": "stream",
     "text": [
      "The R squared score for the testing set is\n",
      "0.9454906892105354\n"
     ]
    }
   ],
   "source": [
    "print(\"The R squared score for the testing set is\")\n",
    "print(model.score(test_x,test_y))"
   ]
  },
  {
   "cell_type": "markdown",
   "id": "1e8be2c5",
   "metadata": {},
   "source": [
    "The Goodness of fit of a model depends on the R squared score of testing data. In our model , the testing set has a R squared value of 94.5% of the variation in the dependent variable(Percentage score of the student) based on the independent variable(Number of hours of study)"
   ]
  },
  {
   "cell_type": "markdown",
   "id": "d0c77f04",
   "metadata": {},
   "source": [
    "### **5. Predict the percentage score of a student who studies for 9.25 hrs/day**"
   ]
  },
  {
   "cell_type": "code",
   "execution_count": 33,
   "id": "98aa3f80",
   "metadata": {},
   "outputs": [
    {
     "name": "stdout",
     "output_type": "stream",
     "text": [
      "The Expected percentage score of a student who studies for 9.25hrs/day is [93.69173249]\n"
     ]
    }
   ],
   "source": [
    "print(\"The Expected percentage score of a student who studies for 9.25hrs/day is\",model.predict([[9.25]]))"
   ]
  },
  {
   "cell_type": "markdown",
   "id": "12a24bac",
   "metadata": {},
   "source": [
    "# `Conclusion`"
   ]
  },
  {
   "cell_type": "markdown",
   "id": "6c6cf6f1",
   "metadata": {},
   "source": [
    "In this task we fitted the best fit linear model and evaluated the model to check it's goodness of fit. On doing this, we found a 94.5% R squared value for the testing set which is an excellent score. We also conclude from the fitted model that a student studying for 9.25hrs/day is expected to score 93.69%"
   ]
  },
  {
   "cell_type": "markdown",
   "id": "b26969aa",
   "metadata": {},
   "source": [
    "**Hence _TASK-1(PREDICTION USING SUPERVISED ML)_ under Data Science and Business Analytics Intern has been completed**"
   ]
  },
  {
   "cell_type": "markdown",
   "id": "69f74383",
   "metadata": {},
   "source": [
    "# `Thank You`"
   ]
  }
 ],
 "metadata": {
  "kernelspec": {
   "display_name": "Python 3",
   "language": "python",
   "name": "python3"
  },
  "language_info": {
   "codemirror_mode": {
    "name": "ipython",
    "version": 3
   },
   "file_extension": ".py",
   "mimetype": "text/x-python",
   "name": "python",
   "nbconvert_exporter": "python",
   "pygments_lexer": "ipython3",
   "version": "3.8.8"
  }
 },
 "nbformat": 4,
 "nbformat_minor": 5
}
